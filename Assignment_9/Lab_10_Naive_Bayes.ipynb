{
  "cells": [
    {
      "cell_type": "markdown",
      "metadata": {
        "id": "1SxibeRm0eHP"
      },
      "source": [
        "##***LAB 10 : Naive Bayes Classifier***##\n",
        "\n",
        "  1. Binary Classification using Naive Bayes Classifier\n",
        "  \n",
        "  2. Sentiment Analysis using Naive Bayes\n",
        "\n",
        "  \n"
      ]
    },
    {
      "cell_type": "code",
      "execution_count": 146,
      "metadata": {
        "id": "JL_2f9KRjax4"
      },
      "outputs": [],
      "source": [
        "import copy\n",
        "import matplotlib\n",
        "import numpy as np\n",
        "import pandas as pd\n",
        "import seaborn as sns\n",
        "from math import exp, sqrt, pi\n",
        "import matplotlib.pyplot as plt\n",
        "from sklearn.naive_bayes import GaussianNB\n",
        "from sklearn.model_selection import train_test_split\n",
        "from sklearn.feature_extraction.text import CountVectorizer\n",
        "from sklearn.metrics import classification_report, confusion_matrix\n",
        "\n",
        "matplotlib.rcParams['figure.figsize'] = (10, 7)"
      ]
    },
    {
      "cell_type": "markdown",
      "metadata": {
        "id": "3kFmTcwYjaLM"
      },
      "source": [
        "##Binary Classification using Naive Bayes Classifier##\n",
        "\n",
        "Useful References : \n",
        "1. https://machinelearningmastery.com/naive-bayes-classifier-scratch-python/\n",
        "\n",
        "2. https://www.analyticsvidhya.com/blog/2021/01/a-guide-to-the-naive-bayes-algorithm/\n",
        "\n",
        "3. https://towardsdatascience.com/implementing-naive-bayes-algorithm-from-scratch-python-c6880cfc9c41\n",
        "\n",
        "**Note : The goal of this experiment is to perform and understand Naive Bayes classification by applying it on the below dataset, you can either fill in the below functions to get the result or you can create a class of your own using the above references to perform classification**"
      ]
    },
    {
      "cell_type": "markdown",
      "metadata": {
        "id": "buED4mnvjz_5"
      },
      "source": [
        "1. Generation of 2D training data"
      ]
    },
    {
      "cell_type": "code",
      "execution_count": 147,
      "metadata": {
        "colab": {
          "base_uri": "https://localhost:8080/",
          "height": 298
        },
        "id": "pXA9oMypj3OM",
        "outputId": "7907c6e3-b106-4492-e35f-26a1f03e5a63"
      },
      "outputs": [
        {
          "data": {
            "text/plain": [
              "Text(0.5, 1.0, 'Data visualization')"
            ]
          },
          "execution_count": 147,
          "metadata": {},
          "output_type": "execute_result"
        },
        {
          "data": {
            "image/png": "[encoded data removed]",
            "text/plain": [
              "<Figure size 720x504 with 1 Axes>"
            ]
          },
          "metadata": {
            "needs_background": "light"
          },
          "output_type": "display_data"
        }
      ],
      "source": [
        "mean1=np.array([0,0])\n",
        "mean2=np.array([4,5])\n",
        "var=np.array([[1,0.1],[0.1,1]])\n",
        "np.random.seed(0)\n",
        "data1=np.random.multivariate_normal(mean1,var,50)\n",
        "data2=np.random.multivariate_normal(mean2,var,50)\n",
        "data=np.concatenate((data1,data2))\n",
        "label=np.concatenate((np.zeros(data1.shape[0]),np.ones(data2.shape[0])))\n",
        "\n",
        "plt.figure()\n",
        "plt.scatter(data[:,0],data[:,1],c=label)\n",
        "plt.title('Data visualization')\n"
      ]
    },
    {
      "cell_type": "markdown",
      "metadata": {
        "id": "6cJBcLjTpMpX"
      },
      "source": [
        "### Class for Naive bayes classifier"
      ]
    },
    {
      "cell_type": "code",
      "execution_count": 148,
      "metadata": {
        "colab": {
          "base_uri": "https://localhost:8080/"
        },
        "id": "vYfrEmkJn8I7",
        "outputId": "aac75912-f557-45a1-e709-08b3e367415c"
      },
      "outputs": [],
      "source": [
        "class NBC:\n",
        "  def __init__(self):\n",
        "    self.data = None\n",
        "    self.label = None\n",
        "    self.summary = None\n",
        "  \n",
        "  def fit(self, data, label):\n",
        "    self.data = data\n",
        "    self.label = label\n",
        "    self.summary = self.get_variables()\n",
        "  \n",
        "  def class_dictionary(self):\n",
        "    class_dict = {}\n",
        "    for i in range(self.data.shape[0]):\n",
        "      if class_dict.get(self.label[i]):\n",
        "        class_dict[self.label[i]].append(self.data[i])\n",
        "      else:\n",
        "        class_dict[self.label[i]] = [self.data[i]]\n",
        "\n",
        "    return class_dict\n",
        "  \n",
        "  def get_variables(self):\n",
        "    var_dict = {}\n",
        "\n",
        "    class_dict = self.class_dictionary()\n",
        "    labels = list(class_dict.keys())\n",
        "    for label in labels:\n",
        "      label_means = np.mean(np.array(class_dict[label]), axis=0)\n",
        "      label_stds = np.std(np.array(class_dict[label]), axis=0)\n",
        "      N = np.array(class_dict[label]).shape[0]\n",
        "      dim = np.array(class_dict[label]).shape[1]\n",
        "      res = []\n",
        "      for i in range(dim):\n",
        "        temp = (label_means[i], label_stds[i], N)\n",
        "        res.append(temp)\n",
        "      \n",
        "      var_dict[label] = copy.deepcopy(res)\n",
        "    return var_dict\n",
        "  \n",
        "  def calculate_probability(self, x, mean, stdev):\n",
        "    exponent = exp(-((x-mean)**2 / (2 * stdev**2 + 1e-15 )))\n",
        "    return (1 / (sqrt(2 * pi) * stdev + 1e-15)) * exponent\n",
        "  \n",
        "  def calculate_class_probabilities(self, row):\n",
        "    \n",
        "    ## Write your code here to calculate the class probabilities\n",
        "    '''\n",
        "    You can use the above function (calculate_probability) to calculate probability of an individual data point belonging to a particular class \n",
        "    based on mean and std deviation of that class\n",
        "    \n",
        "    '''\n",
        "    probabilities = dict()\n",
        "    summary = self.summary\n",
        "    for label in summary:\n",
        "      prob = 1\n",
        "      for i in range(len(row)): prob *=self.calculate_probability(row[i], summary[label][i][0], summary[label][i][1])\n",
        "      probabilities[label] = prob*summary[label][i][2]/self.data.shape[0]\n",
        "        \n",
        "    return probabilities\n",
        "  \n",
        "  def predict(self, test_data):\n",
        "    labels = []\n",
        "    for data in test_data:\n",
        "      max_label = None\n",
        "      max_prob = -float('inf')\n",
        "      curr_pred = self.calculate_class_probabilities(data)\n",
        "      probs = []\n",
        "      for l in curr_pred: probs.append(curr_pred[l])\n",
        "      labels.append(np.argmax(probs))\n",
        "    return np.array(labels)"
      ]
    },
    {
      "cell_type": "markdown",
      "metadata": {},
      "source": [
        "2.Split the Dataset by Class Values (Create a Dictionary)"
      ]
    },
    {
      "cell_type": "code",
      "execution_count": 149,
      "metadata": {},
      "outputs": [
        {
          "name": "stdout",
          "output_type": "stream",
          "text": [
            "This is the class dictionary\n"
          ]
        },
        {
          "data": {
            "text/plain": [
              "{0.0: [array([-1.57668985, -1.03982262]),\n",
              "  array([-2.22908837,  0.77738534]),\n",
              "  array([-0.72944014, -2.04059601]),\n",
              "  array([-0.60307093, -0.80613793]),\n",
              "  array([-0.1988887,  0.351987 ]),\n",
              "  array([-1.0823819 ,  0.86873075]),\n",
              "  array([-0.64602276, -0.4827786 ]),\n",
              "  array([-0.55301333, -0.10534224]),\n",
              "  array([-0.97041435, -1.24566304]),\n",
              "  array([ 0.34076762, -0.80512206]),\n",
              "  array([1.45488724, 2.3318086 ]),\n",
              "  array([-0.14322361, -1.13894247]),\n",
              "  array([-0.70767693, -2.65891323]),\n",
              "  array([ 0.09163132, -0.15950217]),\n",
              "  array([-2.12241532, -0.15106366]),\n",
              "  array([-0.36859122,  0.13876704]),\n",
              "  array([ 1.9871582 , -0.67035913]),\n",
              "  array([0.15313648, 0.36290063]),\n",
              "  array([-1.71898891, -0.10582707]),\n",
              "  array([0.49004011, 0.08445841]),\n",
              "  array([ 1.73020468, -0.1749493 ]),\n",
              "  array([-0.04321608,  2.57402376]),\n",
              "  array([0.67183735, 0.084099  ]),\n",
              "  array([0.40754152, 1.45065429]),\n",
              "  array([1.3396092 , 1.05418816]),\n",
              "  array([0.40455369, 0.92363786]),\n",
              "  array([ 1.17081537, -0.41316892]),\n",
              "  array([-0.26643325,  0.30823425]),\n",
              "  array([-0.25223481,  0.15357382]),\n",
              "  array([0.71376003, 0.22709168]),\n",
              "  array([0.73990561, 0.25751442]),\n",
              "  array([ 1.761071  , -0.55498015]),\n",
              "  array([ 0.1379401 , -0.40110559]),\n",
              "  array([0.89854368, 1.51943123]),\n",
              "  array([0.63802444, 0.70771651]),\n",
              "  array([-0.6272324 , -0.45418367]),\n",
              "  array([-0.01665582, -1.67334851]),\n",
              "  array([ 0.16100003, -0.75776912]),\n",
              "  array([1.03410461, 0.25749629]),\n",
              "  array([0.19337668, 0.2687304 ]),\n",
              "  array([0.25980547, 1.46839103]),\n",
              "  array([ 0.68519909, -1.3758881 ]),\n",
              "  array([-2.37551849,  0.16808376]),\n",
              "  array([-0.75350908, -0.99490358]),\n",
              "  array([0.08674368, 1.50143912]),\n",
              "  array([-0.52103706,  1.11904511]),\n",
              "  array([-0.80961024,  0.50068852]),\n",
              "  array([-0.73827208,  0.2096953 ]),\n",
              "  array([-1.20578537,  1.19021132]),\n",
              "  array([-0.36378319,  0.17554214])],\n",
              " 1.0: [array([3.50752233, 2.6993138 ]),\n",
              "  array([4.29192581, 6.59250797]),\n",
              "  array([3.56619087, 7.17383233]),\n",
              "  array([4.80815598, 4.80534012]),\n",
              "  array([1.58074851, 4.56706754]),\n",
              "  array([2.00718797, 4.22277444]),\n",
              "  array([3.35739154, 6.92001259]),\n",
              "  array([3.6604525 , 5.73706073]),\n",
              "  array([3.40148307, 4.19351521]),\n",
              "  array([2.92595151, 5.16322159]),\n",
              "  array([4.45833583, 3.98333488]),\n",
              "  array([2.88905394, 5.66858736]),\n",
              "  array([4.61548321, 5.41472741]),\n",
              "  array([3.08219469, 6.56324233]),\n",
              "  array([3.22807915, 4.77474657]),\n",
              "  array([4.20924569, 5.9327244 ]),\n",
              "  array([4.4787459 , 5.52145107]),\n",
              "  array([4.01779082, 5.92532132]),\n",
              "  array([3.71211986, 4.43265775]),\n",
              "  array([4.43956151, 3.97306561]),\n",
              "  array([4.81119332, 6.40069914]),\n",
              "  array([3.45039959, 5.30238367]),\n",
              "  array([1.59903643, 3.86618863]),\n",
              "  array([3.92764978, 6.42628439]),\n",
              "  array([5.28554342, 5.66626269]),\n",
              "  array([2.90126409, 6.19995457]),\n",
              "  array([5.10671678, 4.99793313]),\n",
              "  array([4.51808911, 4.62793958]),\n",
              "  array([3.88890452, 3.44002436]),\n",
              "  array([5.14468414, 5.55728691]),\n",
              "  array([3.0749813, 6.6637202]),\n",
              "  array([3.23715953, 4.35462184]),\n",
              "  array([4.3423914 , 6.47522321]),\n",
              "  array([5.77804351, 4.7055156 ]),\n",
              "  array([2.90632196, 4.33154509]),\n",
              "  array([3.10326381, 4.53088183]),\n",
              "  array([3.80127866, 3.92783617]),\n",
              "  array([4.30978752, 6.22424252]),\n",
              "  array([5.05838861, 5.1332605 ]),\n",
              "  array([4.32610657, 5.34955732]),\n",
              "  array([5.18487428, 4.34018354]),\n",
              "  array([5.96882436, 3.98581601]),\n",
              "  array([4.61100889, 3.461623  ]),\n",
              "  array([4.78403921, 5.854026  ]),\n",
              "  array([3.51338894, 6.58356026]),\n",
              "  array([4.77966518, 6.13795151]),\n",
              "  array([4.81271386, 4.24555198]),\n",
              "  array([3.72700442, 4.49685086]),\n",
              "  array([2.87520143, 4.98004819]),\n",
              "  array([1.49913108, 4.29227149])]}"
            ]
          },
          "execution_count": 149,
          "metadata": {},
          "output_type": "execute_result"
        }
      ],
      "source": [
        "nbc = NBC()\n",
        "nbc.fit(data, label)\n",
        "print(\"This is the class dictionary\")\n",
        "nbc.class_dictionary()"
      ]
    },
    {
      "cell_type": "markdown",
      "metadata": {
        "id": "C2FlXCa5q2rt"
      },
      "source": [
        "3. Calculate Mean, Std deviation and count for each column in a dataset"
      ]
    },
    {
      "cell_type": "code",
      "execution_count": 150,
      "metadata": {
        "colab": {
          "base_uri": "https://localhost:8080/"
        },
        "id": "Vhy2NkxQq8EO",
        "outputId": "70e1e354-c534-41db-a23a-530f84dcf182"
      },
      "outputs": [
        {
          "data": {
            "text/plain": [
              "{0.0: [(-0.08143074021616499, 0.9927104621843587, 50),\n",
              "  (0.05650317153356914, 1.0255393627439437, 50)],\n",
              " 1.0: [(3.8912935273386937, 1.0208299436699904, 50),\n",
              "  (5.136474984683965, 1.035467336214579, 50)]}"
            ]
          },
          "execution_count": 150,
          "metadata": {},
          "output_type": "execute_result"
        }
      ],
      "source": [
        "nbc.get_variables()"
      ]
    },
    {
      "cell_type": "markdown",
      "metadata": {
        "id": "14kbEgqEw9_a"
      },
      "source": [
        "4. Test the model using some samples"
      ]
    },
    {
      "cell_type": "code",
      "execution_count": 151,
      "metadata": {
        "colab": {
          "base_uri": "https://localhost:8080/",
          "height": 314
        },
        "id": "x2TpLdVWw9CS",
        "outputId": "b0757acf-9cfd-4cd8-a767-233eb9408252"
      },
      "outputs": [
        {
          "name": "stdout",
          "output_type": "stream",
          "text": [
            "Test Data Size :  20\n"
          ]
        },
        {
          "data": {
            "text/plain": [
              "Text(0.5, 1.0, 'Data visualization')"
            ]
          },
          "execution_count": 151,
          "metadata": {},
          "output_type": "execute_result"
        },
        {
          "data": {
            "image/png": "[encoded data removed]",
            "text/plain": [
              "<Figure size 720x504 with 1 Axes>"
            ]
          },
          "metadata": {
            "needs_background": "light"
          },
          "output_type": "display_data"
        }
      ],
      "source": [
        "## Test Data Generation\n",
        "\n",
        "mean1=np.array([0,0])\n",
        "mean2=np.array([4,5])\n",
        "var=np.array([[1,0.1],[0.1,1]])\n",
        "np.random.seed(0)\n",
        "data1=np.random.multivariate_normal(mean1,var,10)\n",
        "data2=np.random.multivariate_normal(mean2,var,10)\n",
        "test_data=np.concatenate((data1,data2))\n",
        "y_test=np.concatenate((np.zeros(data1.shape[0]),np.ones(data2.shape[0])))\n",
        "print('Test Data Size : ',test_data.shape[0])\n",
        "plt.figure()\n",
        "plt.scatter(data[:,0],data[:,1],c=label)\n",
        "plt.title('Data visualization')"
      ]
    },
    {
      "cell_type": "markdown",
      "metadata": {
        "id": "OLbY6KhzzoHw"
      },
      "source": [
        "Testing for a sample point"
      ]
    },
    {
      "cell_type": "code",
      "execution_count": 152,
      "metadata": {
        "colab": {
          "base_uri": "https://localhost:8080/"
        },
        "id": "cVcXm0UCxTcQ",
        "outputId": "f1a66200-ad53-4b8b-f09c-8b1f69ef05ed"
      },
      "outputs": [
        {
          "name": "stdout",
          "output_type": "stream",
          "text": [
            "Class Probabilites for the first sample of test dataset : \n",
            "{0.0: 0.014197204018409904, 1.0: 8.332975086162472e-16}\n"
          ]
        }
      ],
      "source": [
        "out = nbc.calculate_class_probabilities(test_data[0])\n",
        "print('Class Probabilites for the first sample of test dataset : ')\n",
        "print(out)"
      ]
    },
    {
      "cell_type": "markdown",
      "metadata": {
        "id": "mjV6DO0myhKQ"
      },
      "source": [
        "**As seen above the class probability for the 1st sample is given, we can observe that probability is higher for class 0 than 1 and hence imply that this datapoint belongs to class 0**\n",
        "\n",
        "\n",
        "Now Calculate the class probabilities for all the data points in the test dataset and calculate the accuracy by comparing the predicted labels with the true test labels\n"
      ]
    },
    {
      "cell_type": "code",
      "execution_count": 153,
      "metadata": {
        "id": "Rs-UXbl2y-2N"
      },
      "outputs": [
        {
          "name": "stdout",
          "output_type": "stream",
          "text": [
            "----------------------------------------------------------------------\n",
            "Classification Report\n",
            "              precision    recall  f1-score   support\n",
            "\n",
            "         0.0       1.00      1.00      1.00        10\n",
            "         1.0       1.00      1.00      1.00        10\n",
            "\n",
            "    accuracy                           1.00        20\n",
            "   macro avg       1.00      1.00      1.00        20\n",
            "weighted avg       1.00      1.00      1.00        20\n",
            "\n",
            "----------------------------------------------------------------------\n",
            "Confusion Matrix\n"
          ]
        },
        {
          "data": {
            "text/plain": [
              "<AxesSubplot:>"
            ]
          },
          "execution_count": 153,
          "metadata": {},
          "output_type": "execute_result"
        },
        {
          "data": {
            "image/png": "[encoded data removed]",
            "text/plain": [
              "<Figure size 720x504 with 2 Axes>"
            ]
          },
          "metadata": {
            "needs_background": "light"
          },
          "output_type": "display_data"
        }
      ],
      "source": [
        "## Write your code here\n",
        "y_pred = nbc.predict(test_data)\n",
        "\n",
        "print(\"-\"*70)\n",
        "print(\"Classification Report\")\n",
        "print(classification_report(y_test, y_pred))\n",
        "\n",
        "print(\"-\"*70)\n",
        "print(\"Confusion Matrix\")\n",
        "conf = confusion_matrix(y_test, y_pred)\n",
        "sns.heatmap(conf, annot=True)"
      ]
    },
    {
      "cell_type": "markdown",
      "metadata": {
        "id": "Qc_SfqHkz3Kz"
      },
      "source": [
        "5. Use the Sci-kit Learn library to perform Gaussian Naive Bayes classifier on the above dataset, also report the accuracy and confusion matrix for the same"
      ]
    },
    {
      "cell_type": "code",
      "execution_count": 154,
      "metadata": {
        "id": "vt0veSsf0BVV"
      },
      "outputs": [
        {
          "name": "stdout",
          "output_type": "stream",
          "text": [
            "----------------------------------------------------------------------\n",
            "Classification Report\n",
            "              precision    recall  f1-score   support\n",
            "\n",
            "         0.0       1.00      1.00      1.00        10\n",
            "         1.0       1.00      1.00      1.00        10\n",
            "\n",
            "    accuracy                           1.00        20\n",
            "   macro avg       1.00      1.00      1.00        20\n",
            "weighted avg       1.00      1.00      1.00        20\n",
            "\n",
            "----------------------------------------------------------------------\n",
            "Confusion Matrix\n"
          ]
        },
        {
          "data": {
            "text/plain": [
              "<AxesSubplot:>"
            ]
          },
          "execution_count": 154,
          "metadata": {},
          "output_type": "execute_result"
        },
        {
          "data": {
            "image/png": "[encoded data removed]",
            "text/plain": [
              "<Figure size 720x504 with 2 Axes>"
            ]
          },
          "metadata": {
            "needs_background": "light"
          },
          "output_type": "display_data"
        }
      ],
      "source": [
        "## Write your code here\n",
        "\n",
        "clf = GaussianNB()\n",
        "clf.fit(data, label)\n",
        "\n",
        "y_pred = clf.predict(test_data)\n",
        "\n",
        "print(\"-\"*70)\n",
        "print(\"Classification Report\")\n",
        "print(classification_report(y_test, y_pred))\n",
        "\n",
        "print(\"-\"*70)\n",
        "print(\"Confusion Matrix\")\n",
        "conf = confusion_matrix(y_test, y_pred)\n",
        "sns.heatmap(conf, annot=True)"
      ]
    },
    {
      "cell_type": "markdown",
      "metadata": {
        "id": "1UTNODz-zsf1"
      },
      "source": [
        "##Sentiment Analysis using Naive Bayes Classifier##\n",
        "\n",
        "Go through the following [article](https://www.analyticsvidhya.com/blog/2021/07/performing-sentiment-analysis-with-naive-bayes-classifier/) and implement the same \n",
        "\n",
        "**Keypoints** : \n",
        "  \n",
        "  1. The link to the dataset is given in the above article, download the same to perform sentiment analysis\n",
        "\n",
        "  2. Understanding how to deal with text data is very important since it requires a lot of preprocessing, you can go through this [article](https://www.analyticsvidhya.com/blog/2021/06/text-preprocessing-in-nlp-with-python-codes/) if you are interested in learning more about it\n",
        "  \n",
        "  3. Split the dataset into train-test and train the model\n",
        "  \n",
        "  4. Report the accuracy metrics and try some sample prediction outside of those present in the dataset\n",
        "\n",
        "\n",
        "**Note : The goal of this experiment is to explore a practical use case of Naive bayes classifier as well as to understand how to deal with textual data, you can follow any other open source implemetations of sentiment analysis using naive bayes also**\n",
        "\n",
        "Other References : \n",
        "\n",
        "1. https://towardsdatascience.com/sentiment-analysis-introduction-to-naive-bayes-algorithm-96831d77ac91\n",
        "\n",
        "2. https://gist.github.com/CateGitau/6608912ca92733036c090676c61c13cd"
      ]
    },
    {
      "cell_type": "code",
      "execution_count": 155,
      "metadata": {
        "id": "5x6A4Mp4zw0E"
      },
      "outputs": [
        {
          "data": {
            "text/html": [
              "<div>\n",
              "<style scoped>\n",
              "    .dataframe tbody tr th:only-of-type {\n",
              "        vertical-align: middle;\n",
              "    }\n",
              "\n",
              "    .dataframe tbody tr th {\n",
              "        vertical-align: top;\n",
              "    }\n",
              "\n",
              "    .dataframe thead th {\n",
              "        text-align: right;\n",
              "    }\n",
              "</style>\n",
              "<table border=\"1\" class=\"dataframe\">\n",
              "  <thead>\n",
              "    <tr style=\"text-align: right;\">\n",
              "      <th></th>\n",
              "      <th>package_name</th>\n",
              "      <th>review</th>\n",
              "      <th>polarity</th>\n",
              "    </tr>\n",
              "  </thead>\n",
              "  <tbody>\n",
              "    <tr>\n",
              "      <th>0</th>\n",
              "      <td>com.facebook.katana</td>\n",
              "      <td>privacy at least put some option appear offli...</td>\n",
              "      <td>0</td>\n",
              "    </tr>\n",
              "    <tr>\n",
              "      <th>1</th>\n",
              "      <td>com.facebook.katana</td>\n",
              "      <td>messenger issues ever since the last update, ...</td>\n",
              "      <td>0</td>\n",
              "    </tr>\n",
              "    <tr>\n",
              "      <th>2</th>\n",
              "      <td>com.facebook.katana</td>\n",
              "      <td>profile any time my wife or anybody has more ...</td>\n",
              "      <td>0</td>\n",
              "    </tr>\n",
              "    <tr>\n",
              "      <th>3</th>\n",
              "      <td>com.facebook.katana</td>\n",
              "      <td>the new features suck for those of us who don...</td>\n",
              "      <td>0</td>\n",
              "    </tr>\n",
              "    <tr>\n",
              "      <th>4</th>\n",
              "      <td>com.facebook.katana</td>\n",
              "      <td>forced reload on uploading pic on replying co...</td>\n",
              "      <td>0</td>\n",
              "    </tr>\n",
              "  </tbody>\n",
              "</table>\n",
              "</div>"
            ],
            "text/plain": [
              "          package_name                                             review  \\\n",
              "0  com.facebook.katana   privacy at least put some option appear offli...   \n",
              "1  com.facebook.katana   messenger issues ever since the last update, ...   \n",
              "2  com.facebook.katana   profile any time my wife or anybody has more ...   \n",
              "3  com.facebook.katana   the new features suck for those of us who don...   \n",
              "4  com.facebook.katana   forced reload on uploading pic on replying co...   \n",
              "\n",
              "   polarity  \n",
              "0         0  \n",
              "1         0  \n",
              "2         0  \n",
              "3         0  \n",
              "4         0  "
            ]
          },
          "execution_count": 155,
          "metadata": {},
          "output_type": "execute_result"
        }
      ],
      "source": [
        "## Write your code here\n",
        "\n",
        "url = 'https://raw.githubusercontent.com/Hrd2D/Sentiment-analysis-on-Google-Play-store-apps-reviews/master/google_play_store_apps_reviews_training.csv'\n",
        "data = pd.read_csv(url)\n",
        "\n",
        "data.head()"
      ]
    },
    {
      "cell_type": "code",
      "execution_count": 156,
      "metadata": {},
      "outputs": [
        {
          "data": {
            "text/plain": [
              "((891,), (891,))"
            ]
          },
          "execution_count": 156,
          "metadata": {},
          "output_type": "execute_result"
        }
      ],
      "source": [
        "X = data.review.to_numpy()\n",
        "y = data.polarity.to_numpy()\n",
        "\n",
        "X.shape, y.shape"
      ]
    },
    {
      "cell_type": "code",
      "execution_count": 157,
      "metadata": {},
      "outputs": [],
      "source": [
        "vector = CountVectorizer(stop_words='english')\n",
        "X_features = vector.fit_transform(X).toarray()\n",
        "\n",
        "X_train, X_test, y_train, y_test = train_test_split(X_features, y, test_size=0.25, random_state=42)"
      ]
    },
    {
      "cell_type": "markdown",
      "metadata": {},
      "source": [
        "## Using custom Naive Bayes Classifier"
      ]
    },
    {
      "cell_type": "code",
      "execution_count": 161,
      "metadata": {},
      "outputs": [
        {
          "name": "stderr",
          "output_type": "stream",
          "text": [
            "C:\\Users\\Shashank\\AppData\\Local\\Temp\\ipykernel_23236\\1530596831.py:56: RuntimeWarning: overflow encountered in double_scalars\n",
            "  for i in range(len(row)): prob *=self.calculate_probability(row[i], summary[label][i][0], summary[label][i][1])\n",
            "C:\\Users\\Shashank\\AppData\\Local\\Temp\\ipykernel_23236\\1530596831.py:56: RuntimeWarning: invalid value encountered in double_scalars\n",
            "  for i in range(len(row)): prob *=self.calculate_probability(row[i], summary[label][i][0], summary[label][i][1])\n"
          ]
        },
        {
          "name": "stdout",
          "output_type": "stream",
          "text": [
            "----------------------------------------------------------------------\n",
            "Classification Report\n",
            "              precision    recall  f1-score   support\n",
            "\n",
            "           0       0.68      0.86      0.76       158\n",
            "           1       0.08      0.03      0.04        65\n",
            "\n",
            "    accuracy                           0.62       223\n",
            "   macro avg       0.38      0.45      0.40       223\n",
            "weighted avg       0.51      0.62      0.55       223\n",
            "\n",
            "----------------------------------------------------------------------\n",
            "Confusion Matrix\n"
          ]
        },
        {
          "data": {
            "text/plain": [
              "<AxesSubplot:>"
            ]
          },
          "execution_count": 161,
          "metadata": {},
          "output_type": "execute_result"
        },
        {
          "data": {
            "image/png": "[encoded data removed]",
            "text/plain": [
              "<Figure size 720x504 with 2 Axes>"
            ]
          },
          "metadata": {
            "needs_background": "light"
          },
          "output_type": "display_data"
        }
      ],
      "source": [
        "nbc = NBC()\n",
        "\n",
        "nbc.fit(X_train, y_train)\n",
        "\n",
        "y_pred = nbc.predict(X_test)\n",
        "\n",
        "print(\"-\"*70)\n",
        "print(\"Classification Report\")\n",
        "print(classification_report(y_test, y_pred))\n",
        "\n",
        "print(\"-\"*70)\n",
        "print(\"Confusion Matrix\")\n",
        "conf = confusion_matrix(y_test, y_pred)\n",
        "sns.heatmap(conf, annot=True)"
      ]
    },
    {
      "cell_type": "markdown",
      "metadata": {},
      "source": [
        "### Sklearn Library"
      ]
    },
    {
      "cell_type": "code",
      "execution_count": 162,
      "metadata": {},
      "outputs": [
        {
          "name": "stdout",
          "output_type": "stream",
          "text": [
            "----------------------------------------------------------------------\n",
            "Classification Report\n",
            "              precision    recall  f1-score   support\n",
            "\n",
            "           0       0.85      0.85      0.85       158\n",
            "           1       0.65      0.65      0.65        65\n",
            "\n",
            "    accuracy                           0.79       223\n",
            "   macro avg       0.75      0.75      0.75       223\n",
            "weighted avg       0.79      0.79      0.79       223\n",
            "\n",
            "----------------------------------------------------------------------\n",
            "Confusion Matrix\n"
          ]
        },
        {
          "data": {
            "text/plain": [
              "<AxesSubplot:>"
            ]
          },
          "execution_count": 162,
          "metadata": {},
          "output_type": "execute_result"
        },
        {
          "data": {
            "image/png": "[encoded data removed]",
            "text/plain": [
              "<Figure size 720x504 with 2 Axes>"
            ]
          },
          "metadata": {
            "needs_background": "light"
          },
          "output_type": "display_data"
        }
      ],
      "source": [
        "clf = GaussianNB()\n",
        "clf.fit(X_train, y_train)\n",
        "\n",
        "y_pred = clf.predict(X_test)\n",
        "\n",
        "print(\"-\"*70)\n",
        "print(\"Classification Report\")\n",
        "print(classification_report(y_test, y_pred))\n",
        "\n",
        "print(\"-\"*70)\n",
        "print(\"Confusion Matrix\")\n",
        "conf = confusion_matrix(y_test, y_pred)\n",
        "sns.heatmap(conf, annot=True)"
      ]
    },
    {
      "cell_type": "code",
      "execution_count": null,
      "metadata": {},
      "outputs": [],
      "source": []
    }
  ],
  "metadata": {
    "colab": {
      "name": "Lab_10_Naive_Bayes.ipynb",
      "provenance": []
    },
    "kernelspec": {
      "display_name": "Python 3.10.5 ('.mldev')",
      "language": "python",
      "name": "python3"
    },
    "language_info": {
      "codemirror_mode": {
        "name": "ipython",
        "version": 3
      },
      "file_extension": ".py",
      "mimetype": "text/x-python",
      "name": "python",
      "nbconvert_exporter": "python",
      "pygments_lexer": "ipython3",
      "version": "3.10.5"
    },
    "vscode": {
      "interpreter": {
        "hash": "19266cbb19c7d437ed74b427797c233550faa7136e2336c345645d4b2d0a5c3c"
      }
    }
  },
  "nbformat": 4,
  "nbformat_minor": 0
}
